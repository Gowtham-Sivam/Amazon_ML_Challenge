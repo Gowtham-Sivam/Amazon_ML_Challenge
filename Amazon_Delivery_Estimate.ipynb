{
 "cells": [
  {
   "cell_type": "code",
   "execution_count": 63,
   "id": "8248523b",
   "metadata": {},
   "outputs": [],
   "source": [
    "import os\n",
    "import glob \n",
    "import matplotlib.pyplot as plt"
   ]
  },
  {
   "cell_type": "code",
   "execution_count": 99,
   "id": "e07d8d36",
   "metadata": {},
   "outputs": [
    {
     "ename": "TypeError",
     "evalue": "int() argument must be a string, a bytes-like object or a number, not 'list'",
     "output_type": "error",
     "traceback": [
      "\u001b[1;31m---------------------------------------------------------------------------\u001b[0m",
      "\u001b[1;31mTypeError\u001b[0m                                 Traceback (most recent call last)",
      "Input \u001b[1;32mIn [99]\u001b[0m, in \u001b[0;36m<cell line: 15>\u001b[1;34m()\u001b[0m\n\u001b[0;32m     12\u001b[0m                 res \u001b[38;5;241m=\u001b[39m lines\u001b[38;5;241m.\u001b[39msplit()[\u001b[38;5;241m1\u001b[39m]\n\u001b[0;32m     13\u001b[0m                 lst_rating\u001b[38;5;241m.\u001b[39mappend(res)\n\u001b[1;32m---> 15\u001b[0m lst_age \u001b[38;5;241m=\u001b[39m \u001b[38;5;28;43mint\u001b[39;49m\u001b[43m(\u001b[49m\u001b[43mlst_age\u001b[49m\u001b[43m)\u001b[49m\n",
      "\u001b[1;31mTypeError\u001b[0m: int() argument must be a string, a bytes-like object or a number, not 'list'"
     ]
    }
   ],
   "source": [
    "loc = r\"C:\\Users\\Gowtham\\Desktop\\Work\\Workbench\\1. Ongoing Works\\1. Projects\\1. Amazon - ML\\16cbaf00248311ed\\dataset\\test\"\n",
    "txt_files = glob.glob(loc +\"/*.txt\")\n",
    "lst_age = []\n",
    "lst_rating = []\n",
    "for allfiles in txt_files:\n",
    "    with open(allfiles, 'r') as txt_doc:\n",
    "        for lines in txt_doc:\n",
    "            if lines.startswith('Delivery_person_Age'):\n",
    "                res = lines.split()[1]\n",
    "                lst_age.append(res)\n",
    "            if lines.startswith('Delivery_person_Ratings'):\n",
    "                res = lines.split()[1]\n",
    "                lst_rating.append(res)\n",
    "                \n",
    "lst_age = int(lst_age)"
   ]
  },
  {
   "cell_type": "code",
   "execution_count": 101,
   "id": "3ca738bd",
   "metadata": {},
   "outputs": [],
   "source": [
    "lst_age.sort()\n",
    "lst_rating.sort()"
   ]
  },
  {
   "cell_type": "code",
   "execution_count": 103,
   "id": "4b12948a",
   "metadata": {},
   "outputs": [
    {
     "data": {
      "text/plain": [
       "<matplotlib.collections.PathCollection at 0x245f56af820>"
      ]
     },
     "execution_count": 103,
     "metadata": {},
     "output_type": "execute_result"
    },
    {
     "data": {
      "image/png": "[encoded data removed]",
      "text/plain": [
       "<Figure size 432x288 with 1 Axes>"
      ]
     },
     "metadata": {
      "needs_background": "light"
     },
     "output_type": "display_data"
    }
   ],
   "source": [
    "plt.scatter(lst_rating[100:30], lst_age[0:150])"
   ]
  },
  {
   "cell_type": "code",
   "execution_count": null,
   "id": "b91adb57",
   "metadata": {},
   "outputs": [],
   "source": []
  }
 ],
 "metadata": {
  "kernelspec": {
   "display_name": "Python 3 (ipykernel)",
   "language": "python",
   "name": "python3"
  },
  "language_info": {
   "codemirror_mode": {
    "name": "ipython",
    "version": 3
   },
   "file_extension": ".py",
   "mimetype": "text/x-python",
   "name": "python",
   "nbconvert_exporter": "python",
   "pygments_lexer": "ipython3",
   "version": "3.8.0"
  }
 },
 "nbformat": 4,
 "nbformat_minor": 5
}
